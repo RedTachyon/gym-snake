{
 "cells": [
  {
   "cell_type": "code",
   "execution_count": 2,
   "metadata": {},
   "outputs": [],
   "source": [
    "import gym\n",
    "from gym import error, spaces, utils\n",
    "from gym.utils import seeding\n",
    "\n",
    "import numpy as np\n",
    "import matplotlib.pyplot as plt\n",
    "\n",
    "class SnakeEnv(gym.Env):\n",
    "    metadata = { 'render.modes': ['human'] }\n",
    "    \n",
    "    def __init__(self, board_shape=(12,12), start_pos=):\n",
    "        self.board_shape = board_shape\n",
    "        self.board = np.zeros(board_shape)\n",
    "        self.board[:,0] = 1\n",
    "        self.board[:,-1] = 1\n",
    "        self.board[0,:] = 1\n",
    "        self.board[-1,:] = 1\n",
    "        self.board\n",
    "        self.info = {}\n",
    "        self._reset()\n",
    "        \n",
    "    def _reset(self):\n",
    "        start"
   ]
  },
  {
   "cell_type": "code",
   "execution_count": 9,
   "metadata": {},
   "outputs": [],
   "source": [
    "board_shape = (12, 12)\n",
    "\n",
    "# -1: food, 0: empty, 1: snake, 2: wall\n",
    "board = np.zeros(board_shape, dtype=int)\n",
    "board[:,0]  = 2\n",
    "board[:,-1] = 2\n",
    "board[0,:]  = 2\n",
    "board[-1,:] = 2"
   ]
  },
  {
   "cell_type": "code",
   "execution_count": 10,
   "metadata": {},
   "outputs": [
    {
     "name": "stdout",
     "output_type": "stream",
     "text": [
      "[[2 2 2 2 2 2 2 2 2 2 2 2]\n",
      " [2 0 0 0 0 0 0 0 0 0 0 2]\n",
      " [2 0 0 0 0 0 0 0 0 0 0 2]\n",
      " [2 0 0 0 0 0 0 0 0 0 0 2]\n",
      " [2 0 0 0 0 0 0 0 0 0 0 2]\n",
      " [2 0 0 0 0 0 0 0 0 0 0 2]\n",
      " [2 0 0 0 0 0 0 0 0 0 0 2]\n",
      " [2 0 0 0 0 0 0 0 0 0 0 2]\n",
      " [2 0 0 0 0 0 0 0 0 0 0 2]\n",
      " [2 0 0 0 0 0 0 0 0 0 0 2]\n",
      " [2 0 0 0 0 0 0 0 0 0 0 2]\n",
      " [2 2 2 2 2 2 2 2 2 2 2 2]]\n"
     ]
    }
   ],
   "source": [
    "print(board)"
   ]
  },
  {
   "cell_type": "code",
   "execution_count": 60,
   "metadata": {},
   "outputs": [],
   "source": [
    "class Board:\n",
    "    def __init__(self, shape=(12,12)):\n",
    "        self.shape = shape\n",
    "        self.board = np.zeros(self.shape, dtype=int)\n",
    "        \n",
    "        self._prepare_borders()\n",
    "        \n",
    "    def _prepare_borders(self):\n",
    "        self.board[:,0]  = 2\n",
    "        self.board[:,-1] = 2\n",
    "        self.board[0,:]  = 2\n",
    "        self.board[-1,:] = 2\n",
    "        \n",
    "    def show(self):\n",
    "        for row in self.board:\n",
    "            print(row)\n",
    "\n",
    "class Snake:\n",
    "    def __init__(self, board, starting_position=None, starting_orientation=3, starting_length=3):\n",
    "        self.board = board\n",
    "        if starting_position is None:\n",
    "            starting_position = np.array(list(map(lambda x: x//2, board.shape)))\n",
    "        self.position = starting_position # 2-tuple of ints\n",
    "        self.orientation = starting_orientation # 0: down, 1: left, 2: up, 3: right\n",
    "        \n",
    "        converter = {\n",
    "            0: np.array([1, 0]),\n",
    "            1: np.array([0, -1]),\n",
    "            2: np.array([-1, 0]),\n",
    "            3: np.array([0, 1]),\n",
    "        }\n",
    "        \n",
    "        self.body = [self.position - 2*converter[self.orientation], \n",
    "                     self.position - converter[self.orientation], \n",
    "                     self.position]\n",
    "        \n",
    "    def put_on_board(self):\n",
    "        for pos in self.body:\n",
    "            self.board.board[pos[0], pos[1]] = 1\n",
    "        \n",
    "        "
   ]
  },
  {
   "cell_type": "code",
   "execution_count": 61,
   "metadata": {},
   "outputs": [],
   "source": [
    "board = Board((12, 12))"
   ]
  },
  {
   "cell_type": "code",
   "execution_count": 62,
   "metadata": {},
   "outputs": [
    {
     "name": "stdout",
     "output_type": "stream",
     "text": [
      "[2 2 2 2 2 2 2 2 2 2 2 2]\n",
      "[2 0 0 0 0 0 0 0 0 0 0 2]\n",
      "[2 0 0 0 0 0 0 0 0 0 0 2]\n",
      "[2 0 0 0 0 0 0 0 0 0 0 2]\n",
      "[2 0 0 0 0 0 0 0 0 0 0 2]\n",
      "[2 0 0 0 0 0 0 0 0 0 0 2]\n",
      "[2 0 0 0 0 0 0 0 0 0 0 2]\n",
      "[2 0 0 0 0 0 0 0 0 0 0 2]\n",
      "[2 0 0 0 0 0 0 0 0 0 0 2]\n",
      "[2 0 0 0 0 0 0 0 0 0 0 2]\n",
      "[2 0 0 0 0 0 0 0 0 0 0 2]\n",
      "[2 2 2 2 2 2 2 2 2 2 2 2]\n"
     ]
    }
   ],
   "source": [
    "board.show()"
   ]
  },
  {
   "cell_type": "code",
   "execution_count": 63,
   "metadata": {},
   "outputs": [],
   "source": [
    "snake = Snake(board)"
   ]
  },
  {
   "cell_type": "code",
   "execution_count": 66,
   "metadata": {},
   "outputs": [
    {
     "name": "stdout",
     "output_type": "stream",
     "text": [
      "[2 2 2 2 2 2 2 2 2 2 2 2]\n",
      "[2 0 0 0 0 0 0 0 0 0 0 2]\n",
      "[2 0 0 0 0 0 0 0 0 0 0 2]\n",
      "[2 0 0 0 0 0 0 0 0 0 0 2]\n",
      "[2 0 0 0 0 0 0 0 0 0 0 2]\n",
      "[2 0 0 0 0 0 0 0 0 0 0 2]\n",
      "[2 0 0 0 1 1 1 0 0 0 0 2]\n",
      "[2 0 0 0 0 0 0 0 0 0 0 2]\n",
      "[2 0 0 0 0 0 0 0 0 0 0 2]\n",
      "[2 0 0 0 0 0 0 0 0 0 0 2]\n",
      "[2 0 0 0 0 0 0 0 0 0 0 2]\n",
      "[2 2 2 2 2 2 2 2 2 2 2 2]\n"
     ]
    }
   ],
   "source": [
    "snake.put_on_board()\n",
    "\n",
    "board.show()"
   ]
  }
 ],
 "metadata": {
  "kernelspec": {
   "display_name": "Python 3",
   "language": "python",
   "name": "python3"
  },
  "language_info": {
   "codemirror_mode": {
    "name": "ipython",
    "version": 3
   },
   "file_extension": ".py",
   "mimetype": "text/x-python",
   "name": "python",
   "nbconvert_exporter": "python",
   "pygments_lexer": "ipython3",
   "version": "3.5.3"
  }
 },
 "nbformat": 4,
 "nbformat_minor": 2
}
