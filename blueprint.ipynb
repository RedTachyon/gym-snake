{
 "cells": [
  {
   "cell_type": "code",
   "execution_count": 4,
   "metadata": {},
   "outputs": [],
   "source": [
    "import gym\n",
    "\n",
    "import numpy as np\n",
    "import matplotlib.pyplot as plt"
   ]
  },
  {
   "cell_type": "code",
   "execution_count": 159,
   "metadata": {},
   "outputs": [],
   "source": [
    "WALL = 2\n",
    "TAIL = 1\n",
    "HEAD = 4\n",
    "EMPTY = 0\n",
    "APPLE = 3\n",
    "\n",
    "LEFT = 0\n",
    "FORWARD = 1\n",
    "RIGHT = 2\n",
    "\n",
    "class Board:\n",
    "    \"\"\"\n",
    "    Describes the board of the game.\n",
    "    \n",
    "    Args:\n",
    "        shape: tuple of ints\n",
    "    \"\"\"\n",
    "    def __init__(self, shape=(12,12)):\n",
    "        self.shape = shape\n",
    "        self.board = np.zeros(self.shape, dtype=int)\n",
    "        self.apple = None\n",
    "        \n",
    "        self._prepare_borders()\n",
    "        \n",
    "        self.snakes = []\n",
    "        \n",
    "    def _prepare_borders(self):\n",
    "        \"\"\"Creates the walls of the board.\"\"\"\n",
    "        self.board[:,0]  = WALL\n",
    "        self.board[:,-1] = WALL\n",
    "        self.board[0,:]  = WALL\n",
    "        self.board[-1,:] = WALL\n",
    "        \n",
    "    def _reset_snakes(self):\n",
    "        \"\"\"Removes all snake fields from the board.\"\"\"\n",
    "        self.board[self.board == TAIL] = EMPTY # Clear tails\n",
    "        self.board[self.board == HEAD] = EMPTY # Clear heads\n",
    "        \n",
    "    def _put_snakes(self):\n",
    "        \"\"\"\n",
    "        Puts all the snakes on the board.\n",
    "        \"\"\"\n",
    "        self._reset_snakes()\n",
    "        \n",
    "        for snake in self.snakes:\n",
    "            for pos in snake.body:\n",
    "                self.board[pos[0], pos[1]] = TAIL\n",
    "            head = snake.body[-1]\n",
    "            self.board[head[0], head[1]] = HEAD\n",
    "            \n",
    "                \n",
    "    def _generate_apple(self):\n",
    "        \"\"\"Puts an apple on an empty field. To be changed to something more efficient.\"\"\"\n",
    "        # simple implementation\n",
    "        self._remove_apple()\n",
    "        self._put_snakes()\n",
    "        valid_fields = np.argwhere(self.board == EMPTY)\n",
    "        \n",
    "        index = np.random.randint(valid_fields.shape[0])\n",
    "        x, y = valid_fields[index]\n",
    "        \n",
    "        self.board[x, y] = APPLE\n",
    "        self.apple = (x, y)\n",
    "        \n",
    "    def _remove_apple(self):\n",
    "        self.board[self.board == APPLE] = EMPTY\n",
    "        self.apple = None\n",
    "        \n",
    "    def show(self, mode='graphic'):\n",
    "        if mode == 'text':\n",
    "            for row in self.board:\n",
    "                print(row)\n",
    "        elif mode == 'graphic':\n",
    "            plt.imshow(self.board)\n",
    "            plt.show()\n",
    "            \n",
    "            \n",
    "class Snake:\n",
    "    \"\"\"\n",
    "    No step on snek.\n",
    "    \"\"\"\n",
    "    def __init__(self, board, starting_position=None, starting_orientation=3, starting_length=3):\n",
    "        self.board = board\n",
    "        self.board.snakes.append(self) # Make the board track the snake\n",
    "        \n",
    "        if starting_position is None:\n",
    "            starting_position = tuple(map(lambda x: x//2, board.shape))\n",
    "            \n",
    "        self.position = np.array(starting_position) # 2-tuple of ints\n",
    "        self.orientation = starting_orientation # 0: down, 1: left, 2: up, 3: right\n",
    "        \n",
    "        self.converter = {\n",
    "            0: np.array([1, 0]),\n",
    "            1: np.array([0, -1]),\n",
    "            2: np.array([-1, 0]),\n",
    "            3: np.array([0, 1]),\n",
    "        }\n",
    "        \n",
    "        self.body = [self.position - 2*self.converter[self.orientation], \n",
    "                     self.position - 1*self.converter[self.orientation], \n",
    "                     self.position - 0*self.converter[self.orientation]]\n",
    "        \n",
    "        self.body = list(map(tuple, self.body))\n",
    "        \n",
    "        self.fed = False\n",
    "        \n",
    "    def move(self):\n",
    "        self.position = self.position + self.converter[self.orientation]\n",
    "        self.body.append(tuple(self.position))\n",
    "        if self.fed:\n",
    "            self.fed = False\n",
    "        else:\n",
    "            self.body.pop(0)\n",
    "        \n",
    "    def __str__(self):\n",
    "        return \"Snake at \" + str(self.position)\n",
    "    \n",
    "    def __repr__(self):\n",
    "        return \"Snake at \" + str(self.position)\n",
    "        \n",
    "\n",
    "class Snake1PEnv(gym.Env):\n",
    "    \"\"\"\n",
    "    Environment for a 1-Player Snake game. \n",
    "    \"\"\"\n",
    "    metadata = { 'render.modes': ['human'] }\n",
    "\n",
    "    def __init__(self, board_shape=(12, 12)):\n",
    "        self.board_shape = board_shape\n",
    "        self.info = {}\n",
    "        self._reset()\n",
    "\n",
    "    def _reset(self):\n",
    "        self.board = Board(self.board_shape)\n",
    "        self.snake = Snake(self.board)\n",
    "        self.reward = 0\n",
    "        self.done = False\n",
    "         \n",
    "        self.board._generate_apple()\n",
    "        \n",
    "        return self.board\n",
    "\n",
    "    def _step(self, action):\n",
    "        assert action in (0, 1, 2) # 0: turn left, 1: don't turn, 2: turn right\n",
    "        action = action - 1 \n",
    "        \n",
    "        self.snake.orientation = (self.snake.orientation + action) % 4\n",
    "    \n",
    "        self.snake.move()\n",
    "        \n",
    "        self.board._put_snakes()\n",
    "        \n",
    "        x, y = self.snake.position\n",
    "        \n",
    "        # Check for wall and tail collision\n",
    "        if self.board.board[x, y] in (WALL, TAIL):\n",
    "            self.done = True\n",
    "\n",
    "        # Check for apples\n",
    "        if (x, y) == self.board.apple:\n",
    "            self.snake.fed = True\n",
    "            self.reward += 1\n",
    "            self.board._generate_apple()\n",
    "            \n",
    "\n",
    "        return self.board, self.reward, self.done, self.info\n",
    "\n",
    "    def _render(self, mode='human', close=False):\n",
    "        plt.imshow(self.board.board)\n",
    "        plt.show()"
   ]
  },
  {
   "cell_type": "code",
   "execution_count": 150,
   "metadata": {},
   "outputs": [
    {
     "data": {
      "image/png": "[encoded data removed]",
      "text/plain": [
       "<matplotlib.figure.Figure at 0x17ea8f450b8>"
      ]
     },
     "metadata": {},
     "output_type": "display_data"
    }
   ],
   "source": [
    "game = Snake1PEnv(board_shape=(22,22))\n",
    "\n",
    "game._render()"
   ]
  },
  {
   "cell_type": "code",
   "execution_count": 152,
   "metadata": {},
   "outputs": [
    {
     "data": {
      "image/png": "[encoded data removed]",
      "text/plain": [
       "<matplotlib.figure.Figure at 0x17ea9039550>"
      ]
     },
     "metadata": {},
     "output_type": "display_data"
    }
   ],
   "source": [
    "game._step(FORWARD)\n",
    "game._render()"
   ]
  },
  {
   "cell_type": "code",
   "execution_count": 153,
   "metadata": {},
   "outputs": [
    {
     "data": {
      "image/png": "[encoded data removed]",
      "text/plain": [
       "<matplotlib.figure.Figure at 0x17ea9644ba8>"
      ]
     },
     "metadata": {},
     "output_type": "display_data"
    }
   ],
   "source": [
    "game._step(FORWARD)\n",
    "game._render()"
   ]
  },
  {
   "cell_type": "code",
   "execution_count": 155,
   "metadata": {},
   "outputs": [
    {
     "data": {
      "image/png": "[encoded data removed]",
      "text/plain": [
       "<matplotlib.figure.Figure at 0x17ea90325c0>"
      ]
     },
     "metadata": {},
     "output_type": "display_data"
    }
   ],
   "source": [
    "game._step(LEFT)\n",
    "game._render()"
   ]
  },
  {
   "cell_type": "code",
   "execution_count": 158,
   "metadata": {},
   "outputs": [
    {
     "data": {
      "image/png": "[encoded data removed]",
      "text/plain": [
       "<matplotlib.figure.Figure at 0x17ea91e7828>"
      ]
     },
     "metadata": {},
     "output_type": "display_data"
    }
   ],
   "source": [
    "game._step(FORWARD)\n",
    "game._render()"
   ]
  }
 ],
 "metadata": {
  "kernelspec": {
   "display_name": "Python 3",
   "language": "python",
   "name": "python3"
  },
  "language_info": {
   "codemirror_mode": {
    "name": "ipython",
    "version": 3
   },
   "file_extension": ".py",
   "mimetype": "text/x-python",
   "name": "python",
   "nbconvert_exporter": "python",
   "pygments_lexer": "ipython3",
   "version": "3.6.4"
  }
 },
 "nbformat": 4,
 "nbformat_minor": 2
}
